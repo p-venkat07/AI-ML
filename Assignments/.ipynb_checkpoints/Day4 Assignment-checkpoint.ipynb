{
 "cells": [
  {
   "cell_type": "markdown",
   "metadata": {},
   "source": [
    "## 1.Accept a string from the user and count no.of vowels,consonants and special characters\n"
   ]
  },
  {
   "cell_type": "code",
   "execution_count": 1,
   "metadata": {},
   "outputs": [
    {
     "name": "stdout",
     "output_type": "stream",
     "text": [
      "aeioulkjhgfd@\n",
      "Vowels: 5\n",
      "Consonant: 7\n",
      "Special Character: 1\n"
     ]
    }
   ],
   "source": [
    "s = input()\n",
    "vowels = 0\n",
    "consonant = 0\n",
    "specialchar = 0\n",
    "for i in range(0, len(s)):   \n",
    "        ch = s[i]  \n",
    "        if ( (ch >= 'a' and ch <= 'z') or (ch >= 'A' and ch <= 'Z') ):   \n",
    "            ch = ch.lower() \n",
    "            if (ch == 'a' or ch == 'e' or ch == 'i' or ch == 'o' or ch == 'u'): \n",
    "                vowels += 1\n",
    "            else: \n",
    "                consonant += 1\n",
    "        else: \n",
    "            specialchar += 1\n",
    "print(\"Vowels:\", vowels) \n",
    "print(\"Consonant:\", consonant)  \n",
    "print(\"Special Character:\", specialchar)"
   ]
  },
  {
   "cell_type": "markdown",
   "metadata": {},
   "source": [
    "## 2. count the no.of pairs of a in the given string(Infosys InfyTQ)"
   ]
  },
  {
   "cell_type": "code",
   "execution_count": null,
   "metadata": {},
   "outputs": [],
   "source": [
    "s = input(\"Enter a string \")\n",
    "count = 0\n",
    "for i in range(0,len(s)):\n",
    "    if s[i] == \" a \":\n",
    "        if i == len(s):\n",
    "            break\n",
    "    elif s[i+1] == \"a\":\n",
    "            count = count + 1\n",
    "            i=i+1\n",
    "print(count)\n",
    "        "
   ]
  },
  {
   "cell_type": "markdown",
   "metadata": {},
   "source": [
    "## 3. Test cases"
   ]
  },
  {
   "cell_type": "markdown",
   "metadata": {},
   "source": [
    "### testcase1:\n",
    "#### string →  \"((((()()()))))()\"\n",
    "#### output →  8"
   ]
  },
  {
   "cell_type": "code",
   "execution_count": 1,
   "metadata": {},
   "outputs": [
    {
     "name": "stdout",
     "output_type": "stream",
     "text": [
      "Enter the string: ((((()()()))))()\n",
      "8\n"
     ]
    }
   ],
   "source": [
    "s = input(\"Enter the string: \")\n",
    "c = s.count('()')\n",
    "print(2*c)"
   ]
  },
  {
   "cell_type": "markdown",
   "metadata": {},
   "source": [
    "### testcase2:\n",
    "#### string →  \"((()))()\"\n",
    "#### Output →  4"
   ]
  },
  {
   "cell_type": "code",
   "execution_count": 2,
   "metadata": {},
   "outputs": [
    {
     "name": "stdout",
     "output_type": "stream",
     "text": [
      "Enter the string: ((()))()\n",
      "4\n"
     ]
    }
   ],
   "source": [
    "s = input(\"Enter the string: \")\n",
    "c = s.count('()')\n",
    "print(2*c)"
   ]
  },
  {
   "cell_type": "markdown",
   "metadata": {},
   "source": [
    "## 4.Read the input as two limits and Print the output as Palindrome count between the two limits\n",
    "Example #1; Input : 1 10 Output : 9\n",
    "\n",
    "Example #2: Input : 1 100 Output : 18"
   ]
  },
  {
   "cell_type": "code",
   "execution_count": null,
   "metadata": {},
   "outputs": [],
   "source": [
    "ul,ll=int(input(\"Enter Upper Limit: \")),int(input(\"Enter Lower Limit: \"))\n",
    "count=0\n",
    "for i in range(ul,ll+1):\n",
    "    i=str(i)\n",
    "    if i==i[::-1]:\n",
    "        count+=1\n",
    "print(count)"
   ]
  },
  {
   "cell_type": "markdown",
   "metadata": {},
   "source": [
    "## 5.Accept a number as an input and check whether the given number is palindrome or not\n",
    "- if it is a palindrome number print the number on the screen\n",
    "- if it is not a palindrome number reverse that number and add it to previous number repeat this until will get a palindrome number and print that palindrome number on the screen\n"
   ]
  },
  {
   "cell_type": "code",
   "execution_count": 2,
   "metadata": {},
   "outputs": [
    {
     "ename": "SyntaxError",
     "evalue": "invalid syntax (<ipython-input-2-830dd1afc071>, line 5)",
     "output_type": "error",
     "traceback": [
      "\u001b[1;36m  File \u001b[1;32m\"<ipython-input-2-830dd1afc071>\"\u001b[1;36m, line \u001b[1;32m5\u001b[0m\n\u001b[1;33m    else\u001b[0m\n\u001b[1;37m         ^\u001b[0m\n\u001b[1;31mSyntaxError\u001b[0m\u001b[1;31m:\u001b[0m invalid syntax\n"
     ]
    }
   ],
   "source": [
    "n = int(input())\n",
    "rev = str(n)[::-1]\n",
    "if str(n) == rev:\n",
    "    print(rev,\"is a palindrome\")\n",
    "else \n",
    "\n",
    "    "
   ]
  },
  {
   "cell_type": "code",
   "execution_count": 4,
   "metadata": {},
   "outputs": [
    {
     "name": "stdout",
     "output_type": "stream",
     "text": [
      "100\n",
      "The number isn't a palindrome!\n"
     ]
    }
   ],
   "source": [
    "n = int(input())\n",
    "temp=n\n",
    "rev=0\n",
    "while(n>0):\n",
    "    dig=n%10\n",
    "    rev=rev*10+dig\n",
    "    n=n//10\n",
    "if(temp==rev):\n",
    "    print(\"The number is a palindrome!\")\n",
    "else:\n",
    "    print(\"The number isn't a palindrome!\")"
   ]
  },
  {
   "cell_type": "code",
   "execution_count": null,
   "metadata": {},
   "outputs": [],
   "source": []
  }
 ],
 "metadata": {
  "kernelspec": {
   "display_name": "Python 3",
   "language": "python",
   "name": "python3"
  },
  "language_info": {
   "codemirror_mode": {
    "name": "ipython",
    "version": 3
   },
   "file_extension": ".py",
   "mimetype": "text/x-python",
   "name": "python",
   "nbconvert_exporter": "python",
   "pygments_lexer": "ipython3",
   "version": "3.7.6"
  }
 },
 "nbformat": 4,
 "nbformat_minor": 4
}
