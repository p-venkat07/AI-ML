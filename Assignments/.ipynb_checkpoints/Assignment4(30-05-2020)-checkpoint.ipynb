{
 "cells": [
  {
   "cell_type": "markdown",
   "metadata": {},
   "source": [
    "## Question 1:\n",
    "Count the no.of words,no.of letters,no.of lines available in your file\n"
   ]
  },
  {
   "cell_type": "code",
   "execution_count": 1,
   "metadata": {},
   "outputs": [
    {
     "name": "stdout",
     "output_type": "stream",
     "text": [
      "Number of characters :  38\n",
      "Number of words :  6\n",
      "Number of lines:  4\n"
     ]
    }
   ],
   "source": [
    "file1 = open(\"sample.txt\",\"w\")\n",
    "file1.write(\"hell0\\nworld\\nthis is python\\nprogramming\")\n",
    "file1.close()\n",
    "f = open(\"sample.txt\",\"r\")\n",
    "data = f.read()\n",
    "numofchar = len(data)\n",
    "words = data.split()\n",
    "l1 = data.split(\"\\n\")\n",
    "lines = 0\n",
    "for i in l1:\n",
    "    if i:\n",
    "        lines += 1\n",
    "print(\"Number of characters : \",numofchar)\n",
    "print(\"Number of words : \",len(words))\n",
    "print(\"Number of lines: \",lines)"
   ]
  },
  {
   "cell_type": "markdown",
   "metadata": {},
   "source": [
    "## Question 2:\n",
    "Copy the content of one file to another\n"
   ]
  },
  {
   "cell_type": "code",
   "execution_count": 2,
   "metadata": {},
   "outputs": [
    {
     "name": "stdout",
     "output_type": "stream",
     "text": [
      "hell0\n",
      "world\n",
      "this is python\n",
      "programming\n"
     ]
    }
   ],
   "source": [
    "f = open(\"sample.txt\",\"r\")\n",
    "f1 = open(\"newfile.txt\", \"w\")\n",
    "count = f.readlines() \n",
    "type(count)\n",
    "for i in range(0, len(count)):\n",
    "    f1.write(count[i])\n",
    "\n",
    "f1 = open(\"newfile.txt\", \"r\")\n",
    "count1 = f1.read()\n",
    "print(count1)\n",
    "f.close() \n",
    "f1.close() "
   ]
  },
  {
   "cell_type": "markdown",
   "metadata": {},
   "source": [
    "## Question 3:\n",
    "Display the words starting with letter 'p'\n"
   ]
  },
  {
   "cell_type": "code",
   "execution_count": 3,
   "metadata": {},
   "outputs": [
    {
     "name": "stdout",
     "output_type": "stream",
     "text": [
      "python\n",
      "programming\n"
     ]
    }
   ],
   "source": [
    "f = open(\"sample.txt\",\"r\")\n",
    "data = f.read()\n",
    "for i in data.split():\n",
    "    if i.startswith(\"p\"):\n",
    "        print(i)"
   ]
  },
  {
   "cell_type": "markdown",
   "metadata": {},
   "source": [
    "## Question 4:\n",
    "Rename and remove files\n"
   ]
  },
  {
   "cell_type": "code",
   "execution_count": 32,
   "metadata": {},
   "outputs": [],
   "source": [
    "import os\n",
    "newfile1 = open(\"newfile1.txt\",\"w\")\n",
    "newfile1.write(\"hell0\\nworld\\nthis is python\\nprogramming\")\n",
    "newfile1.close()\n",
    "#rename:\n",
    "os.rename(\"newfile1.txt\",\"new4.txt\")"
   ]
  },
  {
   "cell_type": "code",
   "execution_count": 33,
   "metadata": {},
   "outputs": [],
   "source": [
    "#remove:\n",
    "os.remove(\"new4.txt\")"
   ]
  },
  {
   "cell_type": "code",
   "execution_count": 35,
   "metadata": {},
   "outputs": [
    {
     "ename": "FileNotFoundError",
     "evalue": "[Errno 2] No such file or directory: 'new4.txt'",
     "output_type": "error",
     "traceback": [
      "\u001b[1;31m---------------------------------------------------------------------------\u001b[0m",
      "\u001b[1;31mFileNotFoundError\u001b[0m                         Traceback (most recent call last)",
      "\u001b[1;32m<ipython-input-35-b1cdaf35c85e>\u001b[0m in \u001b[0;36m<module>\u001b[1;34m\u001b[0m\n\u001b[1;32m----> 1\u001b[1;33m \u001b[0mf4\u001b[0m \u001b[1;33m=\u001b[0m \u001b[0mopen\u001b[0m\u001b[1;33m(\u001b[0m\u001b[1;34m\"new4.txt\"\u001b[0m\u001b[1;33m,\u001b[0m\u001b[1;34m\"r\"\u001b[0m\u001b[1;33m)\u001b[0m\u001b[1;33m\u001b[0m\u001b[1;33m\u001b[0m\u001b[0m\n\u001b[0m",
      "\u001b[1;31mFileNotFoundError\u001b[0m: [Errno 2] No such file or directory: 'new4.txt'"
     ]
    }
   ],
   "source": [
    "f4 = open(\"new4.txt\",\"r\")"
   ]
  },
  {
   "cell_type": "code",
   "execution_count": null,
   "metadata": {},
   "outputs": [],
   "source": []
  }
 ],
 "metadata": {
  "kernelspec": {
   "display_name": "Python 3",
   "language": "python",
   "name": "python3"
  },
  "language_info": {
   "codemirror_mode": {
    "name": "ipython",
    "version": 3
   },
   "file_extension": ".py",
   "mimetype": "text/x-python",
   "name": "python",
   "nbconvert_exporter": "python",
   "pygments_lexer": "ipython3",
   "version": "3.7.6"
  }
 },
 "nbformat": 4,
 "nbformat_minor": 4
}
