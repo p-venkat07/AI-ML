{
 "cells": [
  {
   "cell_type": "code",
   "execution_count": 7,
   "metadata": {},
   "outputs": [
    {
     "name": "stdout",
     "output_type": "stream",
     "text": [
      "Furrybottle43|\n",
      "If not satisfied type no to view another password\n",
      "no\n",
      "-------------\n",
      "Hastermouse39~\n",
      "Beautifuldog41)\n",
      "Coolmouse74!\n",
      "Sixteendog94}\n",
      "Richbottle13;\n",
      "-------------\n",
      "you can choose one among theese 5\n"
     ]
    }
   ],
   "source": [
    "import random,string\n",
    "adjectives = [\"Beautiful\",\"Furry\",\"Sixteen\",\"Happy\",\"Haster\",\"Cool\",\"Rich\",\"Simple\"]\n",
    "noun = [\"bottle\",\"cat\",\"laptop\",\"mouse\",\"phone\",\"pillow\",\"dog\"]\n",
    "password = random.choice(adjectives)+random.choice(noun)+str(random.randint(10,100))+random.choice(string.punctuation)\n",
    "print(password)\n",
    "print(\"If not satisfied type no to view another password\")\n",
    "if input() == \"no\".lower():\n",
    "    print(\"-------------\")\n",
    "    for i in range(0,5):\n",
    "        password = random.choice(adjectives)+random.choice(noun)+str(random.randint(1,100))+random.choice(string.punctuation)\n",
    "        print(password)\n",
    "    print(\"-------------\")\n",
    "    print(\"you can choose one among theese 5\")\n",
    "else:\n",
    "    pass"
   ]
  },
  {
   "cell_type": "code",
   "execution_count": null,
   "metadata": {},
   "outputs": [],
   "source": [
    "import random,string\n",
    "adjectives = [\"Beautiful\",\"Furry\",\"Sixteen\",\"Happy\",\"Haster\",\"Cool\",\"Rich\",\"Simple\"]\n",
    "noun = [\"bottle\",\"cat\",\"laptop\",\"mouse\",\"phone\",\"pillow\",\"dog\"]\n",
    "password = random.choice(adjectives)+random.choice(noun)+str(random.randint(10,100))+random.choice(string.punctuation)\n",
    "print(password)\n",
    "print(\"Are you satisfied whith password ?\")\n",
    "print(\"Type 'yes' or 'no' \")\n",
    "while True:\n",
    "    inp = input()\n",
    "    if inp == \"yes\".lower():\n",
    "        break\n",
    "    elif inp == \"no\".lower():\n",
    "        password = random.choice(adjectives)+random.choice(noun)+str(random.randint(10,100))+random.choice(string.punctuation)\n",
    "        print(\"Are you satisfied whith password ?\")\n",
    "        print(\"Type 'yes' or 'no' \")\n",
    "        print(password)\n",
    "    else: \n",
    "        print(\"enter yes or no\")"
   ]
  },
  {
   "cell_type": "code",
   "execution_count": null,
   "metadata": {},
   "outputs": [],
   "source": []
  },
  {
   "cell_type": "code",
   "execution_count": null,
   "metadata": {},
   "outputs": [],
   "source": []
  }
 ],
 "metadata": {
  "kernelspec": {
   "display_name": "Python 3",
   "language": "python",
   "name": "python3"
  }
 },
 "nbformat": 4,
 "nbformat_minor": 4
}
