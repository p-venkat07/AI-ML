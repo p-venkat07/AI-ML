{
 "cells": [
  {
   "cell_type": "code",
   "execution_count": 1,
   "metadata": {},
   "outputs": [],
   "source": [
    "import random\n",
    "lives = 9\n",
    "heart_symbol = '\\u2764'\n",
    "words = [\"pizza\",\"hello\",\"apple\",\"fairy\",\"teeth\"]\n",
    "secret_word = random.choice(words)\n",
    "clue = list('?????')\n",
    "gussed_word_correct = False"
   ]
  },
  {
   "cell_type": "code",
   "execution_count": 2,
   "metadata": {},
   "outputs": [],
   "source": [
    "def update_clue(guessed_letter,secret_word,clue):\n",
    "    i = 0;\n",
    "    while i <len(secret_word):\n",
    "        if guessed_letter == secret_word[i]:\n",
    "            clue[i] = guessed_letter\n",
    "        i += 1"
   ]
  },
  {
   "cell_type": "code",
   "execution_count": 3,
   "metadata": {},
   "outputs": [
    {
     "name": "stdout",
     "output_type": "stream",
     "text": [
      "['?', '?', '?', '?', '?']\n",
      "lives left:  ❤❤❤❤❤❤❤❤❤\n",
      "guess a letter or whole word h\n",
      "incorrect guess. You you loose life\n",
      "['?', '?', '?', '?', '?']\n",
      "lives left:  ❤❤❤❤❤❤❤❤\n",
      "guess a letter or whole word t\n",
      "incorrect guess. You you loose life\n",
      "['?', '?', '?', '?', '?']\n",
      "lives left:  ❤❤❤❤❤❤❤\n",
      "guess a letter or whole word a\n",
      "['?', 'a', '?', '?', '?']\n",
      "lives left:  ❤❤❤❤❤❤❤\n",
      "guess a letter or whole word p\n",
      "incorrect guess. You you loose life\n",
      "['?', 'a', '?', '?', '?']\n",
      "lives left:  ❤❤❤❤❤❤\n",
      "guess a letter or whole word fairy\n"
     ]
    }
   ],
   "source": [
    "while lives > 0:\n",
    "    print(clue)\n",
    "    print(\"lives left: \" ,heart_symbol*lives)\n",
    "    guess = input(\"guess a letter or whole word \")\n",
    "    if guess == secret_word:\n",
    "        guessed_word_correct = True\n",
    "        break\n",
    "    elif guess in secret_word:\n",
    "        update_clue(guess,secret_word,clue)\n",
    "    else:\n",
    "        print(\"incorrect guess. You you loose life\")\n",
    "        lives -= 1\n"
   ]
  },
  {
   "cell_type": "code",
   "execution_count": null,
   "metadata": {},
   "outputs": [],
   "source": []
  },
  {
   "cell_type": "code",
   "execution_count": null,
   "metadata": {},
   "outputs": [],
   "source": []
  },
  {
   "cell_type": "code",
   "execution_count": null,
   "metadata": {},
   "outputs": [],
   "source": []
  }
 ],
 "metadata": {
  "kernelspec": {
   "display_name": "Python 3",
   "language": "python",
   "name": "python3"
  },
  "language_info": {
   "codemirror_mode": {
    "name": "ipython",
    "version": 3
   },
   "file_extension": ".py",
   "mimetype": "text/x-python",
   "name": "python",
   "nbconvert_exporter": "python",
   "pygments_lexer": "ipython3",
   "version": "3.7.6"
  }
 },
 "nbformat": 4,
 "nbformat_minor": 4
}
